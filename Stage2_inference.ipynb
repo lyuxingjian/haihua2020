{
 "cells": [
  {
   "cell_type": "code",
   "execution_count": 1,
   "metadata": {},
   "outputs": [],
   "source": [
    "import torch\n",
    "import torch.nn as nn\n",
    "import torch.nn.functional as F\n",
    "torch.backends.cudnn.benchmark = True\n",
    "\n",
    "import os\n",
    "import cv2\n",
    "import shutil\n",
    "import pandas as pd\n",
    "import numpy as np\n",
    "import pretrainedmodels\n",
    "import matplotlib.pyplot as plt\n",
    "\n",
    "from apex import amp\n",
    "from time import time\n",
    "from warnings import filterwarnings\n",
    "from tqdm.notebook import tqdm\n",
    "from efficientnet_pytorch import EfficientNet\n",
    "from torch.utils.data import Dataset, DataLoader\n",
    "import argparse\n",
    "\n",
    "import gc\n",
    "from PIL import Image\n",
    "from albumentations import *\n",
    "from albumentations.pytorch import ToTensorV2\n",
    "from torchvision.transforms import ToPILImage\n",
    "from sklearn.model_selection import StratifiedKFold"
   ]
  },
  {
   "cell_type": "code",
   "execution_count": 2,
   "metadata": {},
   "outputs": [],
   "source": [
    "# .9998 LB\n",
    "test_root = 'data/test_images'\n",
    "model_dir = 'checkpoints'\n",
    "model_names = ['final_b4_0_stage1.pt', 'final_b4_1_stage1.pt',\\\n",
    "               'final_iv4_0_stage1.pt', 'final_iv4_1_stage1.pt', 'final_iv4_2_stage1.pt',\\\n",
    "               'final_se50_0_stage1.pt', 'final_se50_1_stage1.pt',\\\n",
    "               'final_mixxl_0_stage1.pt', 'final_mixxl_1_stage1.pt']\n",
    "batch_size = 128\n",
    "image_size = 384\n",
    "\n",
    "weights = torch.tensor([1/2, 1/2, 1/3, 1/3, 1/3, 1/2, 1/2, 1/2, 1/2])\n",
    "temperature = 10\n",
    "\n",
    "device = 'cuda:0'"
   ]
  },
  {
   "cell_type": "code",
   "execution_count": 3,
   "metadata": {},
   "outputs": [],
   "source": [
    "# Master Ensemble"
   ]
  },
  {
   "cell_type": "code",
   "execution_count": 4,
   "metadata": {},
   "outputs": [],
   "source": [
    "test_transform = Compose([\n",
    "    Resize(image_size, image_size, interpolation=cv2.INTER_LANCZOS4),\n",
    "    Normalize(),\n",
    "    ToTensorV2(),\n",
    "])"
   ]
  },
  {
   "cell_type": "code",
   "execution_count": 5,
   "metadata": {},
   "outputs": [],
   "source": [
    "models = []\n",
    "if model_names is None:\n",
    "    model_names = list(os.listdir(model_dir))\n",
    "for name in model_names:\n",
    "    model = torch.jit.load(os.path.join(model_dir, name)).to(device).half()\n",
    "    model.eval()\n",
    "    models.append(model)\n",
    "'''if weights is None:\n",
    "    weights = torch.ones(len(model_names))\n",
    "weights = torch.tensor(weights) / len(weights)'''\n",
    "\n",
    "import json\n",
    "train_path = 'data/train.json'\n",
    "id_map = {}\n",
    "with open(train_path, 'r') as fp:\n",
    "    train = dict(json.load(fp))\n",
    "for instance in train['categories']:\n",
    "    id_map[instance['id']] = instance['name']"
   ]
  },
  {
   "cell_type": "code",
   "execution_count": 6,
   "metadata": {},
   "outputs": [],
   "source": [
    "class TrashDataset_test(torch.utils.data.Dataset):\n",
    "    def __init__(self, df, root='data', transform=None):\n",
    "        self.transform = transform\n",
    "        self.df = df\n",
    "        self.root = root\n",
    "\n",
    "    def __len__(self):\n",
    "        return len(self.df)\n",
    "\n",
    "    def __getitem__(self,idx):\n",
    "        name = str(self.df['id'].values[idx])\n",
    "        path = os.path.join(self.root, name+'.png')\n",
    "        # try:\n",
    "        image = np.array(Image.open(path))\n",
    "        if self.transform is not None:\n",
    "            image = self.transform(image=image)['image']\n",
    "        return {'img':image, 'name':name}"
   ]
  },
  {
   "cell_type": "code",
   "execution_count": 7,
   "metadata": {},
   "outputs": [
    {
     "name": "stdout",
     "output_type": "stream",
     "text": [
      "10000 test\n"
     ]
    }
   ],
   "source": [
    "testset = TrashDataset_test(pd.read_csv('data/test.csv'), test_root, test_transform)\n",
    "testloader = torch.utils.data.DataLoader(testset, batch_size=batch_size, num_workers=8)\n",
    "print(len(testset), 'test')"
   ]
  },
  {
   "cell_type": "code",
   "execution_count": 8,
   "metadata": {},
   "outputs": [
    {
     "data": {
      "application/vnd.jupyter.widget-view+json": {
       "model_id": "5769c9c06ff441a0899934c93c748848",
       "version_major": 2,
       "version_minor": 0
      },
      "text/plain": [
       "HBox(children=(FloatProgress(value=0.0, max=79.0), HTML(value='')))"
      ]
     },
     "metadata": {},
     "output_type": "display_data"
    },
    {
     "name": "stdout",
     "output_type": "stream",
     "text": [
      "\n"
     ]
    }
   ],
   "source": [
    "names, model_preds = [], [[] for model in models]\n",
    "with torch.no_grad():\n",
    "    for batch in tqdm(testloader):\n",
    "        img = batch['img'].to(device).half()\n",
    "        for i, model in enumerate(models):\n",
    "            p0 = F.softmax(model(img), dim=1)\n",
    "            p1 = F.softmax(model(torch.flip(img, (-1,))), dim=1)\n",
    "            p2 = F.softmax(model(torch.flip(img, (-2,))), dim=1)\n",
    "            p3 = F.softmax(model(torch.flip(img, (-1, -2))), dim=1)\n",
    "            preds = ((p0 + p1 + p2 + p3) / 4).float()\n",
    "            model_preds[i].append(preds)\n",
    "        names.extend(batch['name'])\n",
    "# N_models x num_samples x n_classes\n",
    "model_preds = torch.stack([torch.cat(preds) for preds in model_preds])"
   ]
  },
  {
   "cell_type": "code",
   "execution_count": 9,
   "metadata": {},
   "outputs": [
    {
     "data": {
      "text/html": [
       "<div>\n",
       "<style scoped>\n",
       "    .dataframe tbody tr th:only-of-type {\n",
       "        vertical-align: middle;\n",
       "    }\n",
       "\n",
       "    .dataframe tbody tr th {\n",
       "        vertical-align: top;\n",
       "    }\n",
       "\n",
       "    .dataframe thead th {\n",
       "        text-align: right;\n",
       "    }\n",
       "</style>\n",
       "<table border=\"1\" class=\"dataframe\">\n",
       "  <thead>\n",
       "    <tr style=\"text-align: right;\">\n",
       "      <th></th>\n",
       "      <th>id</th>\n",
       "      <th>label</th>\n",
       "    </tr>\n",
       "  </thead>\n",
       "  <tbody>\n",
       "    <tr>\n",
       "      <th>0</th>\n",
       "      <td>a2567c4c8625</td>\n",
       "      <td>33</td>\n",
       "    </tr>\n",
       "    <tr>\n",
       "      <th>1</th>\n",
       "      <td>5cd9c7b56d6e</td>\n",
       "      <td>142</td>\n",
       "    </tr>\n",
       "    <tr>\n",
       "      <th>2</th>\n",
       "      <td>cc222c7f2318</td>\n",
       "      <td>80</td>\n",
       "    </tr>\n",
       "    <tr>\n",
       "      <th>3</th>\n",
       "      <td>cbf0afa29462</td>\n",
       "      <td>24</td>\n",
       "    </tr>\n",
       "    <tr>\n",
       "      <th>4</th>\n",
       "      <td>445dcea229a0</td>\n",
       "      <td>126</td>\n",
       "    </tr>\n",
       "  </tbody>\n",
       "</table>\n",
       "</div>"
      ],
      "text/plain": [
       "             id  label\n",
       "0  a2567c4c8625     33\n",
       "1  5cd9c7b56d6e    142\n",
       "2  cc222c7f2318     80\n",
       "3  cbf0afa29462     24\n",
       "4  445dcea229a0    126"
      ]
     },
     "execution_count": 9,
     "metadata": {},
     "output_type": "execute_result"
    }
   ],
   "source": [
    "# Temperature sharpen and multiply by weights\n",
    "model_preds_ = (model_preds ** temperature) * weights.unsqueeze(1).unsqueeze(1).type_as(model_preds)\n",
    "# Normalize\n",
    "model_preds_ /= model_preds_.sum(2).unsqueeze(2)\n",
    "ensemble_conf, ensemble_preds = model_preds_.mean(0).cpu().max(1)\n",
    "\n",
    "preds = ensemble_preds.numpy() + 1\n",
    "df = pd.DataFrame({'id':names, 'label':preds})\n",
    "df.to_csv(os.path.join(model_dir, 'stage2_submission.csv'), index=False)\n",
    "df.head()"
   ]
  }
 ],
 "metadata": {
  "kernelspec": {
   "display_name": "Python 3.7.4 64-bit ('base': conda)",
   "language": "python",
   "name": "python37464bitbaseconda4dcd48f05ad640a193e05f9debc114ce"
  },
  "language_info": {
   "codemirror_mode": {
    "name": "ipython",
    "version": 3
   },
   "file_extension": ".py",
   "mimetype": "text/x-python",
   "name": "python",
   "nbconvert_exporter": "python",
   "pygments_lexer": "ipython3",
   "version": "3.7.4"
  }
 },
 "nbformat": 4,
 "nbformat_minor": 4
}
